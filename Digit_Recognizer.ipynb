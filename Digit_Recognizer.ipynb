{
  "cells": [
    {
      "cell_type": "code",
      "execution_count": null,
      "metadata": {
        "id": "papdTZXrEqkI"
      },
      "outputs": [],
      "source": [
        "import os\n",
        "import requests\n",
        "import zipfile\n",
        "import numpy as np\n",
        "import matplotlib.pyplot as plt\n",
        ""
      ]
    },
    {
      "cell_type": "code",
      "execution_count": null,
      "metadata": {
        "id": "v8KfYV1nFMYv"
      },
      "outputs": [],
      "source": [
        "from scipy.io import loadmat\n",
        "from sklearn.model_selection import train_test_split\n",
        "from tensorflow.keras.models import Sequential\n",
        "from tensorflow.keras.layers import Dense, Dropout, Flatten, Conv2D\n",
        "from tensorflow.keras.layers import MaxPooling2D\n",
        "from tensorflow.keras.callbacks import EarlyStopping, ModelCheckpoint\n",
        "from tensorflow.keras.utils import to_categorical"
      ]
    },
    {
      "cell_type": "markdown",
      "source": [
        "Load data in from .mat file as specified by the paper.\n",
        "\n",
        "https://arxiv.org/abs/1702.05373\n",
        "\n",
        "https://www.tensorflow.org/datasets/catalog/emnist#emnistdigits\n",
        "        Arguments:\n",
        "            mat_file_path: path to the .mat, should be in sample/\n",
        "\n",
        "        Optional Arguments:\n",
        "            width: specified width\n",
        "            height: specified height\n",
        "            max_: the max number of samples to load\n",
        "            verbose: enable verbose printing\n",
        "\n",
        "        Returns:\n",
        "            A tuple of training and test data, and the mapping for class code to ascii value,\n",
        "            in the following format:\n",
        "                - ((training_images, training_labels), (testing_images, testing_labels), mapping)\n"
      ],
      "metadata": {
        "id": "8LezwkVOY4mN"
      }
    },
    {
      "cell_type": "code",
      "execution_count": null,
      "metadata": {
        "id": "rs6gKTd1Igg-"
      },
      "outputs": [],
      "source": [
        "with open(\"matlab.zip\", \"wb\") as f:\n",
        " f.write(response.content)\n",
        "with zipfile.ZipFile(\"matlab.zip\", \"r\") as zip_ref:\n",
        " zip_ref.extractall(\".\")\n",
        "os.remove(\"matlab.zip\")"
      ]
    },
    {
      "cell_type": "code",
      "execution_count": null,
      "metadata": {
        "id": "_l3py9_JJz-G"
      },
      "outputs": [],
      "source": [
        "def load_emnist(file_path):\n",
        "  data = loadmat(file_path)\n",
        "  X = data['dataset'][0][0][0][0][0][0]\n",
        "  y = data['dataset'][0][0][0][0][0][1]\n",
        "  X = X.reshape(X.shape[0], 28, 28, 1).transpose([0, 2, 1, 3])\n",
        "  y = y.reshape(-1)\n",
        "  return X, y"
      ]
    },
    {
      "cell_type": "code",
      "execution_count": null,
      "metadata": {
        "id": "1KAu2r--KFiu"
      },
      "outputs": [],
      "source": [
        "X, y = load_emnist(\"matlab/emnist-digits.mat\")\n",
        "X_train, X_test, y_train, y_test = train_test_split(X, y, test_size=0.2,\n",
        "random_state=42)"
      ]
    },
    {
      "cell_type": "code",
      "execution_count": null,
      "metadata": {
        "id": "GP7B7yP7KGfG"
      },
      "outputs": [],
      "source": [
        "model = Sequential()\n",
        "model.add(Conv2D(32, kernel_size=(3, 3), activation=\"relu\", input_shape=(28,\n",
        "28, 1)))\n",
        "model.add(MaxPooling2D(pool_size=(2, 2)))\n",
        "model.add(Conv2D(64, kernel_size=(3, 3), activation=\"relu\"))\n",
        "model.add(MaxPooling2D(pool_size=(2, 2)))\n",
        "model.add(Dropout(0.25))\n",
        "model.add(Flatten())\n",
        "model.add(Dense(128, activation=\"relu\"))\n",
        "model.add(Dropout(0.5))\n",
        "model.add(Dense(10, activation=\"softmax\"))"
      ]
    },
    {
      "cell_type": "code",
      "execution_count": null,
      "metadata": {
        "colab": {
          "base_uri": "https://localhost:8080/"
        },
        "id": "ItxEG_zSKRRN",
        "outputId": "1b00c0ad-a370-4163-dad8-2327453bdbc7"
      },
      "outputs": [
        {
          "name": "stdout",
          "output_type": "stream",
          "text": [
            "Model: \"sequential_1\"\n",
            "_________________________________________________________________\n",
            " Layer (type)                Output Shape              Param #   \n",
            "=================================================================\n",
            " conv2d_2 (Conv2D)           (None, 26, 26, 32)        320       \n",
            "                                                                 \n",
            " max_pooling2d_2 (MaxPooling  (None, 13, 13, 32)       0         \n",
            " 2D)                                                             \n",
            "                                                                 \n",
            " conv2d_3 (Conv2D)           (None, 11, 11, 64)        18496     \n",
            "                                                                 \n",
            " max_pooling2d_3 (MaxPooling  (None, 5, 5, 64)         0         \n",
            " 2D)                                                             \n",
            "                                                                 \n",
            " dropout_2 (Dropout)         (None, 5, 5, 64)          0         \n",
            "                                                                 \n",
            " flatten_1 (Flatten)         (None, 1600)              0         \n",
            "                                                                 \n",
            " dense_2 (Dense)             (None, 128)               204928    \n",
            "                                                                 \n",
            " dropout_3 (Dropout)         (None, 128)               0         \n",
            "                                                                 \n",
            " dense_3 (Dense)             (None, 10)                1290      \n",
            "                                                                 \n",
            "=================================================================\n",
            "Total params: 225,034\n",
            "Trainable params: 225,034\n",
            "Non-trainable params: 0\n",
            "_________________________________________________________________\n"
          ]
        }
      ],
      "source": [
        "model.compile(loss=\"categorical_crossentropy\", optimizer=\"adam\",\n",
        "metrics=[\"accuracy\"])\n",
        "model.summary()"
      ]
    },
    {
      "cell_type": "code",
      "execution_count": null,
      "metadata": {
        "colab": {
          "background_save": true
        },
        "id": "BLSm5fizKU_d"
      },
      "outputs": [],
      "source": [
        "from keras.callbacks import EarlyStopping\n",
        "import time\n",
        "early_stopping = EarlyStopping(monitor=\"val_loss\", patience=1, verbose=1)\n",
        "model"
      ]
    },
    {
      "cell_type": "code",
      "execution_count": null,
      "metadata": {
        "id": "KVUGj-sjLv_G"
      },
      "outputs": [],
      "source": [
        "model.save(\"emnist_digits_model.h5\")"
      ]
    },
    {
      "cell_type": "code",
      "execution_count": null,
      "metadata": {
        "id": "ySt5wHsbKksN"
      },
      "outputs": [],
      "source": [
        "from keras.models import load_model\n",
        "model = load_model(\"emnist_digits_model.h5\")"
      ]
    },
    {
      "cell_type": "code",
      "execution_count": null,
      "metadata": {
        "id": "_QVupM0tNEH-"
      },
      "outputs": [],
      "source": [
        "num_samples = 2\n",
        "random_indices=np.random.choice(X_test.shape[0],size=num_samples,replace=False)\n",
        "plt.show()"
      ]
    },
    {
      "cell_type": "code",
      "execution_count": null,
      "metadata": {
        "colab": {
          "base_uri": "https://localhost:8080/",
          "height": 177
        },
        "id": "B4tnLpfkNyvN",
        "outputId": "a90d4be6-4af7-47ab-db99-5e5803f2b1c6"
      },
      "outputs": [
        {
          "data": {
            "image/png": "[encoded data removed]",
            "text/plain": [
              "<Figure size 400x200 with 2 Axes>"
            ]
          },
          "metadata": {},
          "output_type": "display_data"
        }
      ],
      "source": [
        "fig, axes = plt.subplots(1, num_samples, figsize=(4, 2))\n",
        "for i, idx in enumerate(random_indices):\n",
        "  axes[i].imshow(X_test[idx].reshape(28, 28), cmap='gray')\n",
        "  axes[i].axis('off')\n",
        "plt.show()"
      ]
    },
    {
      "cell_type": "code",
      "execution_count": null,
      "metadata": {
        "colab": {
          "base_uri": "https://localhost:8080/"
        },
        "id": "ABqGLGC6MjtM",
        "outputId": "9bc908f1-3918-49bd-95dd-f23c6a21b3d6"
      },
      "outputs": [
        {
          "name": "stdout",
          "output_type": "stream",
          "text": [
            "1/1 [==============================] - 0s 33ms/step\n",
            "Predicted classes: [0 0]\n"
          ]
        }
      ],
      "source": [
        "selected_images = X_test[random_indices]\n",
        "predictions = model.predict(selected_images)\n",
        "predicted_classes = np.argmax(predictions, axis=1)\n",
        "print(\"Predicted classes:\", predicted_classes)\n"
      ]
    }
  ],
  "metadata": {
    "colab": {
      "provenance": []
    },
    "kernelspec": {
      "display_name": "Python 3",
      "name": "python3"
    },
    "language_info": {
      "name": "python"
    }
  },
  "nbformat": 4,
  "nbformat_minor": 0
}